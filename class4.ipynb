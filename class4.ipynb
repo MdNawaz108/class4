{
 "cells": [
  {
   "cell_type": "code",
   "execution_count": 1,
   "metadata": {},
   "outputs": [],
   "source": [
    "name1:str=\"qasim\";\n",
    "name2:str=\"ali\";\n"
   ]
  },
  {
   "cell_type": "code",
   "execution_count": 3,
   "metadata": {},
   "outputs": [],
   "source": [
    "names=[\"qasim\",True,123,\"\"]"
   ]
  },
  {
   "cell_type": "markdown",
   "metadata": {},
   "source": [
    "# list\n",
    "* dynamic length\n",
    "* hetrogenous data types (multiple types)\n",
    "* index\n",
    "    * positive 0 to n-1\n",
    "    * negative -1 to length\n",
    "* slicing\n",
    "    * start : int(type) = include\n",
    "    * end :int(type) =n-1\n",
    "    * step :int(type) = sequence"
   ]
  },
  {
   "cell_type": "code",
   "execution_count": 10,
   "metadata": {},
   "outputs": [
    {
     "name": "stdout",
     "output_type": "stream",
     "text": [
      "['a', 'b', 'c', 'd', 'e']\n"
     ]
    }
   ],
   "source": [
    "names4=[\"a\",\"b\",\"c\",\"d\",\"e\"];\n",
    "print(names4);\n"
   ]
  },
  {
   "cell_type": "code",
   "execution_count": 17,
   "metadata": {},
   "outputs": [
    {
     "name": "stdout",
     "output_type": "stream",
     "text": [
      "city of winds hyderabad\n",
      "city of winds hyderabad\n",
      "type of list <class 'list'>\n",
      "type of list elements <class 'str'>\n"
     ]
    }
   ],
   "source": [
    "from typing import Any\n",
    "names:list[any]=[\"hyderabad\",\"left\",\"right\"]\n",
    "print(f'city of winds {names[-3]}');\n",
    "\n",
    "print(f'city of winds {names[0]}');\n",
    "print('type of list',type(names))\n",
    "print('type of list elements',type(names[0]))\n",
    "\n",
    "\n"
   ]
  },
  {
   "cell_type": "code",
   "execution_count": 90,
   "metadata": {},
   "outputs": [
    {
     "name": "stdout",
     "output_type": "stream",
     "text": [
      "['A', 'B', 'C', 'D', 'E', 'F', 'G', 'H', 'I', 'J', 'K', 'L', 'M', 'N']\n",
      "[]\n"
     ]
    }
   ],
   "source": [
    "characters:list[str]=list(\"ABCDEFGHIJKLMN\")\n",
    "\n",
    "\n",
    "print(characters)\n",
    "print(characters[-26:-24]);\n"
   ]
  },
  {
   "cell_type": "code",
   "execution_count": 89,
   "metadata": {},
   "outputs": [
    {
     "name": "stdout",
     "output_type": "stream",
     "text": [
      "['A', 'B']\n",
      "[]\n"
     ]
    }
   ],
   "source": [
    "characters:list[str]=['A', 'B', 'C', 'D', 'E', 'F', 'G', 'H', 'I', 'J', 'K', 'L', 'M', 'N']\n",
    "print(characters[0:2]) # n-1\n"
   ]
  },
  {
   "cell_type": "markdown",
   "metadata": {},
   "source": [
    "sclicing"
   ]
  },
  {
   "cell_type": "code",
   "execution_count": 93,
   "metadata": {},
   "outputs": [
    {
     "name": "stdout",
     "output_type": "stream",
     "text": [
      "['A', 'B', 'C', 'D', 'E', 'F', 'G', 'H', 'I', 'J', 'K', 'L', 'M', 'N']\n",
      "['A', 'B']\n",
      "['A', 'B']\n",
      "['A', 'B', 'C', 'D', 'E']\n",
      "['A', 'C', 'E']\n",
      "['B', 'C', 'D', 'E', 'F', 'G', 'H', 'I', 'J', 'K', 'L', 'M']\n",
      "['N', 'M', 'L', 'K', 'J', 'I', 'H', 'G', 'F', 'E', 'D', 'C', 'B', 'A']\n",
      "['N', 'M', 'L', 'K']\n"
     ]
    }
   ],
   "source": [
    "# default slicing go from left to right\n",
    "print(characters)\n",
    "print(characters[0:2]); #1 way n - 1\n",
    "print(characters[:2]); #2nd way\n",
    "print(characters[0:5:1]);\n",
    "print(characters[0:5:2]);\n",
    "print(characters[1:-1]);\n",
    "print(characters[::-1]);\n",
    "print(characters[-1:-5:-1])\n",
    "\n"
   ]
  },
  {
   "cell_type": "markdown",
   "metadata": {},
   "source": [
    "# list methods\n",
    " "
   ]
  },
  {
   "cell_type": "code",
   "execution_count": 95,
   "metadata": {},
   "outputs": [],
   "source": [
    "names[0]=\"karachi\""
   ]
  },
  {
   "cell_type": "code",
   "execution_count": 117,
   "metadata": {},
   "outputs": [
    {
     "name": "stdout",
     "output_type": "stream",
     "text": [
      "['karachi', 'left', 'right', True, 20]\n",
      "['left', 'right', True, 20]\n",
      "karachi\n"
     ]
    }
   ],
   "source": [
    "names:list[Any]=['karachi', 'left', 'right',True,20]\n",
    "print(names)\n",
    "a:str=names.pop(0);\n",
    "print(names)\n",
    "print(a);"
   ]
  },
  {
   "cell_type": "code",
   "execution_count": 102,
   "metadata": {},
   "outputs": [
    {
     "name": "stdout",
     "output_type": "stream",
     "text": [
      "['left', 'right', True, 20, 'karachi']\n"
     ]
    }
   ],
   "source": [
    "names.append(\"karachi\");\n",
    "print(names);"
   ]
  },
  {
   "cell_type": "code",
   "execution_count": 119,
   "metadata": {},
   "outputs": [
    {
     "data": {
      "text/plain": [
       "['left', 'right', True, 20]"
      ]
     },
     "execution_count": 119,
     "metadata": {},
     "output_type": "execute_result"
    }
   ],
   "source": [
    "# names.clear()\n",
    "names"
   ]
  }
 ],
 "metadata": {
  "kernelspec": {
   "display_name": "Python 3",
   "language": "python",
   "name": "python3"
  },
  "language_info": {
   "codemirror_mode": {
    "name": "ipython",
    "version": 3
   },
   "file_extension": ".py",
   "mimetype": "text/x-python",
   "name": "python",
   "nbconvert_exporter": "python",
   "pygments_lexer": "ipython3",
   "version": "3.12.0"
  }
 },
 "nbformat": 4,
 "nbformat_minor": 2
}
